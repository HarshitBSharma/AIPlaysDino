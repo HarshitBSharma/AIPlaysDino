{
 "cells": [
  {
   "cell_type": "markdown",
   "metadata": {},
   "source": [
    "# AI Learns Chrome T-Rex Game!"
   ]
  },
  {
   "cell_type": "code",
   "execution_count": 3,
   "metadata": {},
   "outputs": [],
   "source": [
    "\"\"\"\n",
    "Lets import these babies\n",
    "\"\"\"\n",
    "\n",
    "# Bread and butter of any DL Problem\n",
    "import numpy as np\n",
    "from matplotlib import pyplot as plt\n",
    "\n",
    "# For Automating browser actions\n",
    "from selenium import webdriver\n",
    "from selenium.webdriver.chrome.options import Options\n",
    "from selenium.webdriver.common.keys import Keys\n",
    "\n",
    "# Importing Pytorch\n",
    "import torch\n",
    "import torch.nn as nn\n",
    "import torch.optim as optim\n",
    "\n",
    "# Now this is random\n",
    "import random\n",
    "\n",
    "# Collections\n",
    "from collections import namedtuple\n",
    "\n",
    "# For image processing\n",
    "import cv2"
   ]
  },
  {
   "cell_type": "code",
   "execution_count": 2,
   "metadata": {},
   "outputs": [
    {
     "data": {
      "text/plain": [
       "\"# Setting up display\\n%matplotlib inline\\nis_ipython = 'inline' in matplotlib.get_backend()\\nif is_ipython: from IPython import display\""
      ]
     },
     "execution_count": 2,
     "metadata": {},
     "output_type": "execute_result"
    }
   ],
   "source": [
    "\"\"\"# Setting up display\n",
    "%matplotlib inline\n",
    "is_ipython = 'inline' in matplotlib.get_backend()\n",
    "if is_ipython: from IPython import display\"\"\"\n"
   ]
  },
  {
   "cell_type": "code",
   "execution_count": 3,
   "metadata": {},
   "outputs": [
    {
     "data": {
      "text/plain": [
       "Experience(state=1, action=2, next_state=3, reward=5)"
      ]
     },
     "execution_count": 3,
     "metadata": {},
     "output_type": "execute_result"
    }
   ],
   "source": [
    "Experience = namedtuple(\n",
    "    'Experience',\n",
    "    ('state', 'action', 'next_state', 'reward')\n",
    ")\n",
    "\n",
    "e = Experience(1, 2, 3, 5)\n",
    "e"
   ]
  },
  {
   "cell_type": "code",
   "execution_count": 4,
   "metadata": {},
   "outputs": [],
   "source": [
    "class ReplayMemory():\n",
    "    def __init__(self, capacity):\n",
    "        self.capacity = capacity\n",
    "        self.memory = []\n",
    "        self.push_count = 0\n",
    "\n",
    "    def push(self, experience):\n",
    "        if len(self.memory) < self.capacity:\n",
    "            self.memory.append(experience)\n",
    "        else:\n",
    "            self.memory[self.push_count % self.capacity] = experience\n",
    "        self.push_count += 1\n",
    "\n",
    "    def sample(self, batch_size):\n",
    "        return random.sample(self.memory, batch_size)\n",
    "\n",
    "    def can_provide_sample(self, batch_size):\n",
    "        return len(self.memory) <= batch_size\n",
    "\n",
    "\n",
    "class EpsilonGreedyStrategy():\n",
    "    def __init__(self, start, end, decay):\n",
    "        self.start = start\n",
    "        self.end = end\n",
    "        self.decay = decay\n",
    "\n",
    "    def get_exploration_rate(self, current_episode):\n",
    "        exploration_rate = self.start + (self.max-self.min) *\\\n",
    "                      math.exp(-1. * current_episode * self.decay)\n",
    "\n",
    "        return exploration_rate \n",
    "\n",
    "\n"
   ]
  },
  {
   "cell_type": "code",
   "execution_count": 7,
   "metadata": {},
   "outputs": [],
   "source": [
    "class Agent():\n",
    "    def __init__(self, strategy, num_actions, device):\n",
    "        self.current_episode = 0\n",
    "        self.strategy = strategy\n",
    "        self.num_actions = num_actions\n",
    "        self.device = device\n",
    "    \n",
    "    def select_action(self, state, policy_net):\n",
    "        rate = self.strategy.get_exploration_rate(self.current_episode)\n",
    "        if rate <= random.random():\n",
    "            # Exploration\n",
    "            return random.randrange(self.num_actions).to(self.device)\n",
    "        else:\n",
    "            # Exploitation\n",
    "            with torch.no_grad():\n",
    "                return policy_net(state).argmax(dim=1).to(self.device)\n",
    "\n",
    "# This is our Enviroment manager \n",
    "chrome_browser_path = \".//Driver/chromedriver.exe\"\n",
    "init_script = \"document.getElementsByClassName('runner-canvas')[0].id = 'runner-canvas'\"\n",
    "\n",
    "def ChromeManager():\n",
    "    def __init__(self, device, custom_config=True):\n",
    "        self.device = device\n",
    "        self.done = False\n",
    "        self.initialize_chrome()\n",
    "    \n",
    "\n",
    "    def initialize_chrome(self):\n",
    "        chrome_options = Options()\n",
    "        chrome_options.add_argument(\"start-maximized\")\n",
    "        chrome_options.add_argument(\"disable-infobars\")\n",
    "        chrome_options.add_argument(\"--mute-audio\")\n",
    "        self.driver = webdriver.Chrome(executable_path=chrome_browser_path, chrome_options=chrome_options)\n",
    "        try:\n",
    "            self.driver.get(game_url)\n",
    "        except:\n",
    "            print('Exception has been handled')\n",
    "        self.driver.execute_script(\"Runner.config.ACCELERATION=0\")\n",
    "        self.driver.execute_script(init_script)\n",
    "\n",
    "    # Restarting our game\n",
    "    def reset(self):\n",
    "        return self.driver.execute_script(\"return Runner.instance_.restart()\")\n",
    "\n",
    "    # To close the game\n",
    "    def close(self):\n",
    "        return self.driver.execute_script(\"return Runner.instance_.crashed\")\n",
    "\n",
    "    # Start?\n",
    "    def start(self):\n",
    "        self.driver.execute_script('Runner.instance_.playing=true')\n",
    "\n",
    "    # To get the current score of our game\n",
    "    def get_score(self):\n",
    "        score_array = self.driver.execute_script('return Runner.instance_.distanceMeter.digits')\n",
    "        # Scores are stored in the form '0, 1, 4', for a score of 14.\n",
    "        score = ''.join(score_array)\n",
    "        return int(score)\n",
    "\n",
    "    # To get the highscore of our game\n",
    "    def get_highscore(self):\n",
    "        highscore_array = self.driver.execute_script('return Runner.instance_.distanceMeter.highscore')\n",
    "        for i in range(len(highscore_array)):\n",
    "            if highscore_array[i] == 0:\n",
    "                break\n",
    "            highscore_array = highscore_array[i:]\n",
    "            highscore = ''.join(highscore_array)\n",
    "            return int(highscore)\n",
    "    \n",
    "    # This function will be called when we want to jump\n",
    "    def press_up(self):\n",
    "        self.driver.find_element_by_tag_name('body').send_keys(Keys.ARROW_UP)\n",
    "\n",
    "    # This function will be called when we want to duck\n",
    "    def press_down(self):\n",
    "        self.driver.find_element_by_tag_name('body').send_keys(Keys.ARROW_DOWN)\n",
    "\n",
    "    # This function will be called when we don't want to jump or duck\n",
    "    def press_right(self):\n",
    "        self.driver.find_element_by_tag_name('body').send_keys(Keys.ARROW_RIGHT)\n",
    "\n",
    "    # Hard stop\n",
    "    def close_all(self):\n",
    "        self.driver.close()\n",
    "        self.driver.quit()\n",
    "        try:\n",
    "            os.system('cmd /c taskkill /F /IM chromedriver.exe')\n",
    "        except:\n",
    "            print('No tasks found!')\n",
    "\n",
    "\n",
    "class EnviromentManager():\n",
    "    def __init__(self, agent, environment):\n",
    "        self.agent = agent\n",
    "        self.environment = environment\n",
    "\n",
    "\n",
    "class ImagePreProcessing():\n",
    "    def __init__(self, driver, device):\n",
    "        self.driver = driver\n",
    "        self.device = device\n",
    "\n",
    "    # Take Screenshot. We'll be needing 4 screenshots, so yeah\n",
    "    def screenshot(self):\n",
    "        file_path = './/Screenshots/'\n",
    "        current_state = []\n",
    "        for i in range(1, 5):\n",
    "            file_name = 'Screenshot' + str(i) + '.jpg'\n",
    "            self.driver.save_screenshot(file_name)\n",
    "            image_tensor = self.process_image(file_name)\n",
    "            current_state.append(image_tensor)\n",
    "        current_state = torch.cat(current_state).unsqueeze(0).to(self.device)\n",
    "        return current_state\n",
    "\n",
    "    \n",
    "    def process_image(self, image_file):\n",
    "        image = cv2.imread(image_file)\n",
    "        image = cv2.cvtColor(image, cv2.COLOR_BGR2GRAY)\n",
    "        image[image>255] = 255\n",
    "        image = cv2.resize(image, 1, 84, 84)\n",
    "        return self.image_to_tensor(image)\n",
    "\n",
    "\n",
    "    def image_to_tensor(self, image):\n",
    "        image_tensor = image.astype(np.float32)\n",
    "        image_tensor = image.to(self.device)\n",
    "        return image_tensor\n",
    "\n",
    "\n",
    "    \n",
    "\n",
    "\n",
    "\n",
    "\n"
   ]
  },
  {
   "cell_type": "code",
   "execution_count": 6,
   "metadata": {
    "tags": []
   },
   "outputs": [
    {
     "output_type": "stream",
     "name": "stdout",
     "text": "Help on dtype object:\n\nclass dtype(builtins.object)\n |  Methods defined here:\n |  \n |  __reduce__(...)\n |      Helper for pickle.\n |  \n |  __repr__(self, /)\n |      Return repr(self).\n |  \n |  ----------------------------------------------------------------------\n |  Data descriptors defined here:\n |  \n |  is_complex\n |  \n |  is_floating_point\n |  \n |  is_signed\n\n"
    }
   ],
   "source": [
    "a = torch.float32\n",
    "help(a)"
   ]
  },
  {
   "cell_type": "code",
   "execution_count": 11,
   "metadata": {
    "tags": []
   },
   "outputs": [
    {
     "name": "stdout",
     "output_type": "stream",
     "text": [
      "0\n"
     ]
    }
   ],
   "source": [
    "print(random.randrange(3))"
   ]
  },
  {
   "cell_type": "code",
   "execution_count": null,
   "metadata": {},
   "outputs": [],
   "source": []
  }
 ],
 "metadata": {
  "kernelspec": {
   "display_name": "Python 3.7.8 64-bit",
   "language": "python",
   "name": "python37864bit493ebcdfe64d44eab888e13e0887aab6"
  },
  "language_info": {
   "codemirror_mode": {
    "name": "ipython",
    "version": 3
   },
   "file_extension": ".py",
   "mimetype": "text/x-python",
   "name": "python",
   "nbconvert_exporter": "python",
   "pygments_lexer": "ipython3",
   "version": "3.7.8-final"
  }
 },
 "nbformat": 4,
 "nbformat_minor": 4
}