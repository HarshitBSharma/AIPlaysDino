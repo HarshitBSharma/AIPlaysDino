{
 "cells": [
  {
   "cell_type": "markdown",
   "metadata": {},
   "source": [
    "# AI Learns Chrome T-Rex Game!"
   ]
  },
  {
   "cell_type": "code",
   "execution_count": 1,
   "metadata": {},
   "outputs": [],
   "source": [
    "\"\"\"\n",
    "Lets import these babies\n",
    "\"\"\"\n",
    "\n",
    "# Bread and butter of any DL Problem\n",
    "import numpy as np\n",
    "from matplotlib import pyplot as plt\n",
    "\n",
    "# For Automating browser actions\n",
    "from selenium import webdriver\n",
    "from selenium.webdriver.chrome.options import Options\n",
    "from selenium.webdriver.common.keys import Keys\n",
    "\n",
    "# Importing Pytorch\n",
    "import torch\n",
    "import torch.nn as nn\n",
    "import torch.optim as optim\n",
    "\n",
    "# Now this is random\n",
    "import random\n",
    "\n",
    "# Collections\n",
    "from collections import namedtuple\n",
    "\n",
    "# For image processing\n",
    "import cv2\n",
    "\n",
    "# Yeah this is the time stone\n",
    "import time"
   ]
  },
  {
   "cell_type": "code",
   "execution_count": 2,
   "metadata": {},
   "outputs": [
    {
     "output_type": "execute_result",
     "data": {
      "text/plain": "\"# Setting up display\\n%matplotlib inline\\nis_ipython = 'inline' in matplotlib.get_backend()\\nif is_ipython: from IPython import display\""
     },
     "metadata": {},
     "execution_count": 2
    }
   ],
   "source": [
    "\n",
    "\n",
    "\"\"\"# Setting up display\n",
    "%matplotlib inline\n",
    "is_ipython = 'inline' in matplotlib.get_backend()\n",
    "if is_ipython: from IPython import display\"\"\"\n"
   ]
  },
  {
   "cell_type": "code",
   "execution_count": 3,
   "metadata": {},
   "outputs": [
    {
     "output_type": "execute_result",
     "data": {
      "text/plain": "Experience(state=1, action=2, next_state=3, reward=5)"
     },
     "metadata": {},
     "execution_count": 3
    }
   ],
   "source": [
    "Experience = namedtuple(\n",
    "    'Experience',\n",
    "    ('state', 'action', 'next_state', 'reward')\n",
    ")\n",
    "\n",
    "e = Experience(1, 2, 3, 5)\n",
    "e"
   ]
  },
  {
   "cell_type": "code",
   "execution_count": 4,
   "metadata": {},
   "outputs": [],
   "source": [
    "class ReplayMemory():\n",
    "    def __init__(self, capacity):\n",
    "        self.capacity = capacity\n",
    "        self.memory = []\n",
    "        self.push_count = 0\n",
    "\n",
    "    def push(self, experience):\n",
    "        if len(self.memory) < self.capacity:\n",
    "            self.memory.append(experience)\n",
    "        else:\n",
    "            self.memory[self.push_count % self.capacity] = experience\n",
    "        self.push_count += 1\n",
    "\n",
    "    def sample(self, batch_size):\n",
    "        return random.sample(self.memory, batch_size)\n",
    "\n",
    "    def can_provide_sample(self, batch_size):\n",
    "        return len(self.memory) <= batch_size\n",
    "\n",
    "\n",
    "class EpsilonGreedyStrategy():\n",
    "    def __init__(self, start, end, decay):\n",
    "        self.start = start\n",
    "        self.end = end\n",
    "        self.decay = decay\n",
    "\n",
    "    def get_exploration_rate(self, current_episode):\n",
    "        exploration_rate = self.start + (self.max-self.min) *\\\n",
    "                      math.exp(-1. * current_episode * self.decay)\n",
    "\n",
    "        return exploration_rate \n",
    "\n",
    "\n"
   ]
  },
  {
   "cell_type": "code",
   "execution_count": 5,
   "metadata": {},
   "outputs": [],
   "source": [
    "class Agent():\n",
    "    def __init__(self, strategy, num_actions, device):\n",
    "        self.current_episode = 0\n",
    "        self.strategy = strategy\n",
    "        self.num_actions = num_actions\n",
    "        self.device = device\n",
    "    \n",
    "    def select_action(self, state, policy_net):\n",
    "        rate = self.strategy.get_exploration_rate(self.current_episode)\n",
    "        if rate <= random.random():\n",
    "            # Exploration\n",
    "            return random.randrange(self.num_actions).to(self.device)\n",
    "        else:\n",
    "            # Exploitation\n",
    "            with torch.no_grad():\n",
    "                return policy_net(state).argmax(dim=1).to(self.device)\n",
    "            \n",
    "            \n",
    "\n",
    "# This is our Enviroment manager \n",
    "chrome_browser_path = \".//Driver/chromedriver.exe\"\n",
    "init_script = \"document.getElementsByClassName('runner-canvas')[0].id = 'runner-canvas'\"\n",
    "game_url = 'chrome://dino'\n",
    "\n",
    "class ChromeManager():\n",
    "    def __init__(self, device):\n",
    "        print(\"Hello\")\n",
    "        self.device = device\n",
    "        self.done = False\n",
    "        self.initialize_chrome()\n",
    "    \n",
    "    def initialize_chrome(self):\n",
    "        chrome_options = Options()\n",
    "        chrome_options.add_argument(\"start-maximized\")\n",
    "        chrome_options.add_argument(\"disable-infobars\")\n",
    "        chrome_options.add_argument(\"--mute-audio\")\n",
    "        self.driver = webdriver.Chrome(executable_path=chrome_browser_path, chrome_options=chrome_options)\n",
    "\n",
    "    # Restarting our game\n",
    "    def reset(self):\n",
    "        try:\n",
    "            self.driver.get(game_url)\n",
    "        except:\n",
    "            print('Exception has been handled')\n",
    "        self.driver.execute_script(\"Runner.config.ACCELERATION=0\")\n",
    "        self.driver.execute_script(init_script)\n",
    "        return self.driver.execute_script(\"return Runner.instance_.restart()\")\n",
    "\n",
    "    # To close the game\n",
    "    def close(self):\n",
    "        return self.driver.execute_script(\"return Runner.instance_.crashed\")\n",
    "\n",
    "    # Start?\n",
    "    def start(self):\n",
    "        try:\n",
    "            self.driver.get(game_url)\n",
    "        except:\n",
    "            print('Exception has been handled')\n",
    "        self.driver.execute_script('Runner.instance_.playing=true')\n",
    "        self.press_up()\n",
    "        time.sleep(3)\n",
    "\n",
    "    # To get the current score of our game\n",
    "    def get_score(self):\n",
    "        score_array = self.driver.execute_script('return Runner.instance_.distanceMeter.digits')\n",
    "        # Scores are stored in the form '0, 1, 4', for a score of 14.\n",
    "        score = ''.join(score_array)\n",
    "        return int(score)\n",
    "\n",
    "    # To get the highscore of our game\n",
    "    def get_highscore(self):\n",
    "        highscore_array = self.driver.execute_script('return Runner.instance_.distanceMeter.highscore')\n",
    "        for i in range(len(highscore_array)):\n",
    "            if highscore_array[i] == 0:\n",
    "                break\n",
    "            highscore_array = highscore_array[i:]\n",
    "            highscore = ''.join(highscore_array)\n",
    "            return int(highscore)\n",
    "    \n",
    "    # This function will be called when we want to jump\n",
    "    def press_up(self):\n",
    "        self.driver.find_element_by_tag_name('body').send_keys(Keys.ARROW_UP)\n",
    "\n",
    "    # This function will be called when we want to duck\n",
    "    def press_down(self):\n",
    "        self.driver.find_element_by_tag_name('body').send_keys(Keys.ARROW_DOWN)\n",
    "\n",
    "    # This function will be called when we don't want to jump or duck\n",
    "    def press_right(self):\n",
    "        self.driver.find_element_by_tag_name('body').send_keys(Keys.ARROW_RIGHT)\n",
    "\n",
    "    # Hard stop\n",
    "    def close_all(self):\n",
    "        self.driver.close()\n",
    "        self.driver.quit()\n",
    "        try:\n",
    "            os.system('cmd /c taskkill /F /IM chromedriver.exe')\n",
    "        except:\n",
    "            print('No tasks found!')\n",
    "\n",
    "\n",
    "class EnviromentManager():\n",
    "    def __init__(self, agent, environment):\n",
    "        self.agent = agent\n",
    "        self.environment = environment\n",
    "\n",
    "\n",
    "class ImagePreProcessing():\n",
    "    def __init__(self, driver, device):\n",
    "        self.driver = driver\n",
    "        self.device = device\n",
    "\n",
    "    # Take Screenshot. We'll be needing 4 screenshots, so yeah\n",
    "    def screenshot(self):\n",
    "        file_path = './/Screenshots/'\n",
    "        current_state = []\n",
    "        for i in range(1, 5):\n",
    "            file_name = file_path + 'Screenshot' + str(i) + '.jpg'\n",
    "            self.driver.save_screenshot(file_name)\n",
    "            image_tensor = self.process_image(file_name)\n",
    "            current_state.append(image_tensor)\n",
    "        current_state = torch.cat(current_state).unsqueeze(0).to(self.device)\n",
    "        return current_state\n",
    "\n",
    "    \n",
    "    def process_image(self, image_file):\n",
    "        image = cv2.imread(image_file)\n",
    "        image = cv2.cvtColor(image, cv2.COLOR_BGR2GRAY)\n",
    "        image[image>255] = 255\n",
    "        image = cv2.resize(image, (84, 84))\n",
    "        image = np.reshape(image, (1, 84, 84))\n",
    "        #image = torch.from_numpy(image)\n",
    "        return self.image_to_tensor(image)\n",
    "\n",
    "\n",
    "    def image_to_tensor(self, image):\n",
    "        imag = image.astype(np.float32)\n",
    "        image_tensor = torch.from_numpy(image)\n",
    "        image_tensor = image_tensor.to(self.device)\n",
    "        return image_tensor\n",
    "\n",
    "\n",
    "    "
   ]
  },
  {
   "cell_type": "code",
   "execution_count": 6,
   "metadata": {
    "tags": []
   },
   "outputs": [],
   "source": [
    "\n",
    "# Starting to Build our DQN\n",
    "class DinoNetwork(nn.Module):\n",
    "    def __init__(self):\n",
    "        super(DinoNetwork, self).__init__()\n",
    "        self.number_of_actions = 3\n",
    "        self.gamma = 0.99\n",
    "        self.initial_epsilon = 0.1\n",
    "        self.final_epsilon = 0.0001\n",
    "        self.number_of_iterations = 10000\n",
    "        self.replay_memory_size = 1000\n",
    "        self.minibatch_size = 1 \n",
    "\n",
    "        self.conv1 = nn.Sequential(\n",
    "            nn.Conv2d(1, 32, 5, 3),\n",
    "            nn.ReLU(),\n",
    "            nn.BatchNorm2d(32)\n",
    "        )\n",
    "\n",
    "        self.conv2 = nn.Sequential(\n",
    "            nn.Conv2d(32, 64, 5, 3),\n",
    "            nn.ReLU(),\n",
    "            nn.BatchNorm2d(64)\n",
    "        )\n",
    "\n",
    "        self.conv3 = nn.Sequential(\n",
    "            nn.Conv2d(64, 64, 3, 3),\n",
    "            nn.ReLU(),\n",
    "            nn.BatchNorm2d(64)\n",
    "        )\n",
    "\n",
    "        self.fc1 = nn.Sequential(\n",
    "            nn.Linear(256, 64),\n",
    "            nn.ReLU(),\n",
    "            # nn.BatchNorm1d(256)\n",
    "        )\n",
    "\n",
    "        self.fc2 = nn.Sequential(\n",
    "            nn.Linear(64, 3)\n",
    "        )\n",
    "\n",
    "\n",
    "    def forward(self, inputs):\n",
    "        x = self.conv1(inputs)\n",
    "        x = self.conv2(x)\n",
    "        x = self.conv3(x)\n",
    "        print(f\"After last conv layer, shape is {x.shape}\")\n",
    "        x = x.flatten(start_dim=1, end_dim=-1)\n",
    "        print(f\"After Flattening shape is {x.shape}\")\n",
    "        x = self.fc1(x)\n",
    "        x = self.fc2(x) \n",
    "        return x\n"
   ]
  },
  {
   "cell_type": "code",
   "execution_count": 7,
   "metadata": {
    "tags": []
   },
   "outputs": [],
   "source": [
    "# Defining Hyperparameters\n",
    "batch_size = 64\n",
    "\n",
    "# Discount factor for Belmann equation\n",
    "gamma = 0.99\n",
    "\n",
    "# Start value of the exploration rate\n",
    "eps_start = 1\n",
    "\n",
    "# End value of the exploration rate\n",
    "eps_end = 0.01\n",
    "\n",
    "# Decay rate to decay decay epsilon over time\n",
    "eps_decay = 0.001\n",
    "\n",
    "# How frequently the weights of target Network will be updated, in terms of episodes\n",
    "target_update = 10\n",
    "\n",
    "# Capacity of replay memory\n",
    "memory_size = 100_000\n",
    "\n",
    "# Learning rate of policy network\n",
    "lr = 0.001\n",
    "\n",
    "# Total number of episodes, dumbo\n",
    "num_episodes = 1000\n",
    "\n",
    "# Setting up device\n",
    "device = torch.device(\"cuda\" if torch.cuda.is_available() else \"cpu\")\n"
   ]
  },
  {
   "cell_type": "code",
   "execution_count": 8,
   "metadata": {
    "tags": []
   },
   "outputs": [
    {
     "output_type": "stream",
     "name": "stdout",
     "text": "Hello\n"
    },
    {
     "output_type": "execute_result",
     "data": {
      "text/plain": "'environ.reset()\\nenviron.start()\\nstate = get_ss.screenshot()\\nenviron.close_all()'"
     },
     "metadata": {},
     "execution_count": 8
    }
   ],
   "source": [
    "# Environment goes brr\n",
    "\n",
    "environ = ChromeManager(device=device)\n",
    "\n",
    "# Strategy goes brr\n",
    "strategy = EpsilonGreedyStrategy(eps_start, eps_end, eps_decay)\n",
    "\n",
    "# Agent goes brr\n",
    "agent = Agent(strategy, 4, device)\n",
    "\n",
    "# Replay memory goes brr\n",
    "memory = ReplayMemory(memory_size)\n",
    "\n",
    "# Defining our Policy network and target network\n",
    "policy_net = DinoNetwork().to(device)\n",
    "target_net = DinoNetwork().to(device)\n",
    "\n",
    "# For taking screenshots\n",
    "get_ss = ImagePreProcessing(environ.driver, device)\n",
    "\n",
    "# Now we set the weights of our target net to be the same as our policy net\n",
    "target_net.load_state_dict(policy_net.state_dict())\n",
    "target_net.eval()\n",
    "\n",
    "# Choosing our optimizer\n",
    "optimizer = optim.Adam(params=policy_net.parameters(), lr=lr)\n",
    "\n",
    "\"\"\"environ.reset()\n",
    "environ.start()\n",
    "state = get_ss.screenshot()\n",
    "environ.close_all()\"\"\"\n"
   ]
  },
  {
   "cell_type": "code",
   "execution_count": 9,
   "metadata": {
    "tags": []
   },
   "outputs": [
    {
     "output_type": "stream",
     "name": "stdout",
     "text": "Exception has been handled\nException has been handled\n"
    }
   ],
   "source": [
    "environ.reset()\n",
    "environ.start()\n",
    "state = get_ss.screenshot()\n",
    "state = state.cpu()\n",
    "npy = np.array(state)\n",
    "\n",
    "# The shape is actually (1, 4, 84, 84), so we gotta index accordingly\n",
    "arr = npy[0][0]\n",
    "\n"
   ]
  },
  {
   "cell_type": "code",
   "execution_count": 10,
   "metadata": {
    "tags": []
   },
   "outputs": [
    {
     "output_type": "execute_result",
     "data": {
      "text/plain": "(84, 84)"
     },
     "metadata": {},
     "execution_count": 10
    }
   ],
   "source": [
    "arr.shape"
   ]
  },
  {
   "cell_type": "code",
   "execution_count": 11,
   "metadata": {},
   "outputs": [
    {
     "output_type": "execute_result",
     "data": {
      "text/plain": "\"img = cv2.imread(arr)\\ncv2.imshow('Haha', img)\""
     },
     "metadata": {},
     "execution_count": 11
    },
    {
     "output_type": "display_data",
     "data": {
      "text/plain": "<Figure size 432x288 with 1 Axes>",
      "image/svg+xml": "<?xml version=\"1.0\" encoding=\"utf-8\" standalone=\"no\"?>\r\n<!DOCTYPE svg PUBLIC \"-//W3C//DTD SVG 1.1//EN\"\r\n  \"http://www.w3.org/Graphics/SVG/1.1/DTD/svg11.dtd\">\r\n<!-- Created with matplotlib (https://matplotlib.org/) -->\r\n<svg height=\"251.023058pt\" version=\"1.1\" viewBox=\"0 0 251.565 251.023058\" width=\"251.565pt\" xmlns=\"http://www.w3.org/2000/svg\" xmlns:xlink=\"http://www.w3.org/1999/xlink\">\r\n <metadata>\r\n  <rdf:RDF xmlns:cc=\"http://creativecommons.org/ns#\" xmlns:dc=\"http://purl.org/dc/elements/1.1/\" xmlns:rdf=\"http://www.w3.org/1999/02/22-rdf-syntax-ns#\">\r\n   <cc:Work>\r\n    <dc:type rdf:resource=\"http://purl.org/dc/dcmitype/StillImage\"/>\r\n    <dc:date>2020-09-11T22:21:37.401087</dc:date>\r\n    <dc:format>image/svg+xml</dc:format>\r\n    <dc:creator>\r\n     <cc:Agent>\r\n      <dc:title>Matplotlib v3.3.1, https://matplotlib.org/</dc:title>\r\n     </cc:Agent>\r\n    </dc:creator>\r\n   </cc:Work>\r\n  </rdf:RDF>\r\n </metadata>\r\n <defs>\r\n  <style type=\"text/css\">*{stroke-linecap:butt;stroke-linejoin:round;}</style>\r\n </defs>\r\n <g id=\"figure_1\">\r\n  <g id=\"patch_1\">\r\n   <path d=\"M 0 251.023058 \r\nL 251.565 251.023058 \r\nL 251.565 0 \r\nL 0 0 \r\nz\r\n\" style=\"fill:none;\"/>\r\n  </g>\r\n  <g id=\"axes_1\">\r\n   <g id=\"patch_2\">\r\n    <path d=\"M 26.925 227.144933 \r\nL 244.365 227.144933 \r\nL 244.365 9.704933 \r\nL 26.925 9.704933 \r\nz\r\n\" style=\"fill:#ffffff;\"/>\r\n   </g>\r\n   <g clip-path=\"url(#p815039609e)\">\r\n    <image height=\"218\" id=\"imagec65b12a634\" transform=\"scale(1 -1)translate(0 -218)\" width=\"218\" x=\"26.925\" xlink:href=\"data:image/png;base64,\r\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\" y=\"-9.144933\"/>\r\n   </g>\r\n   <g id=\"matplotlib.axis_1\">\r\n    <g id=\"xtick_1\">\r\n     <g id=\"line2d_1\">\r\n      <defs>\r\n       <path d=\"M 0 0 \r\nL 0 3.5 \r\n\" id=\"m3f7024b3dc\" style=\"stroke:#000000;stroke-width:0.8;\"/>\r\n      </defs>\r\n      <g>\r\n       <use style=\"stroke:#000000;stroke-width:0.8;\" x=\"28.219286\" xlink:href=\"#m3f7024b3dc\" y=\"227.144933\"/>\r\n      </g>\r\n     </g>\r\n     <g id=\"text_1\">\r\n      <!-- 0 -->\r\n      <g transform=\"translate(25.038036 241.743371)scale(0.1 -0.1)\">\r\n       <defs>\r\n        <path d=\"M 31.78125 66.40625 \r\nQ 24.171875 66.40625 20.328125 58.90625 \r\nQ 16.5 51.421875 16.5 36.375 \r\nQ 16.5 21.390625 20.328125 13.890625 \r\nQ 24.171875 6.390625 31.78125 6.390625 \r\nQ 39.453125 6.390625 43.28125 13.890625 \r\nQ 47.125 21.390625 47.125 36.375 \r\nQ 47.125 51.421875 43.28125 58.90625 \r\nQ 39.453125 66.40625 31.78125 66.40625 \r\nz\r\nM 31.78125 74.21875 \r\nQ 44.046875 74.21875 50.515625 64.515625 \r\nQ 56.984375 54.828125 56.984375 36.375 \r\nQ 56.984375 17.96875 50.515625 8.265625 \r\nQ 44.046875 -1.421875 31.78125 -1.421875 \r\nQ 19.53125 -1.421875 13.0625 8.265625 \r\nQ 6.59375 17.96875 6.59375 36.375 \r\nQ 6.59375 54.828125 13.0625 64.515625 \r\nQ 19.53125 74.21875 31.78125 74.21875 \r\nz\r\n\" id=\"DejaVuSans-48\"/>\r\n       </defs>\r\n       <use xlink:href=\"#DejaVuSans-48\"/>\r\n      </g>\r\n     </g>\r\n    </g>\r\n    <g id=\"xtick_2\">\r\n     <g id=\"line2d_2\">\r\n      <g>\r\n       <use style=\"stroke:#000000;stroke-width:0.8;\" x=\"79.990714\" xlink:href=\"#m3f7024b3dc\" y=\"227.144933\"/>\r\n      </g>\r\n     </g>\r\n     <g id=\"text_2\">\r\n      <!-- 20 -->\r\n      <g transform=\"translate(73.628214 241.743371)scale(0.1 -0.1)\">\r\n       <defs>\r\n        <path d=\"M 19.1875 8.296875 \r\nL 53.609375 8.296875 \r\nL 53.609375 0 \r\nL 7.328125 0 \r\nL 7.328125 8.296875 \r\nQ 12.9375 14.109375 22.625 23.890625 \r\nQ 32.328125 33.6875 34.8125 36.53125 \r\nQ 39.546875 41.84375 41.421875 45.53125 \r\nQ 43.3125 49.21875 43.3125 52.78125 \r\nQ 43.3125 58.59375 39.234375 62.25 \r\nQ 35.15625 65.921875 28.609375 65.921875 \r\nQ 23.96875 65.921875 18.8125 64.3125 \r\nQ 13.671875 62.703125 7.8125 59.421875 \r\nL 7.8125 69.390625 \r\nQ 13.765625 71.78125 18.9375 73 \r\nQ 24.125 74.21875 28.421875 74.21875 \r\nQ 39.75 74.21875 46.484375 68.546875 \r\nQ 53.21875 62.890625 53.21875 53.421875 \r\nQ 53.21875 48.921875 51.53125 44.890625 \r\nQ 49.859375 40.875 45.40625 35.40625 \r\nQ 44.1875 33.984375 37.640625 27.21875 \r\nQ 31.109375 20.453125 19.1875 8.296875 \r\nz\r\n\" id=\"DejaVuSans-50\"/>\r\n       </defs>\r\n       <use xlink:href=\"#DejaVuSans-50\"/>\r\n       <use x=\"63.623047\" xlink:href=\"#DejaVuSans-48\"/>\r\n      </g>\r\n     </g>\r\n    </g>\r\n    <g id=\"xtick_3\">\r\n     <g id=\"line2d_3\">\r\n      <g>\r\n       <use style=\"stroke:#000000;stroke-width:0.8;\" x=\"131.762143\" xlink:href=\"#m3f7024b3dc\" y=\"227.144933\"/>\r\n      </g>\r\n     </g>\r\n     <g id=\"text_3\">\r\n      <!-- 40 -->\r\n      <g transform=\"translate(125.399643 241.743371)scale(0.1 -0.1)\">\r\n       <defs>\r\n        <path d=\"M 37.796875 64.3125 \r\nL 12.890625 25.390625 \r\nL 37.796875 25.390625 \r\nz\r\nM 35.203125 72.90625 \r\nL 47.609375 72.90625 \r\nL 47.609375 25.390625 \r\nL 58.015625 25.390625 \r\nL 58.015625 17.1875 \r\nL 47.609375 17.1875 \r\nL 47.609375 0 \r\nL 37.796875 0 \r\nL 37.796875 17.1875 \r\nL 4.890625 17.1875 \r\nL 4.890625 26.703125 \r\nz\r\n\" id=\"DejaVuSans-52\"/>\r\n       </defs>\r\n       <use xlink:href=\"#DejaVuSans-52\"/>\r\n       <use x=\"63.623047\" xlink:href=\"#DejaVuSans-48\"/>\r\n      </g>\r\n     </g>\r\n    </g>\r\n    <g id=\"xtick_4\">\r\n     <g id=\"line2d_4\">\r\n      <g>\r\n       <use style=\"stroke:#000000;stroke-width:0.8;\" x=\"183.533571\" xlink:href=\"#m3f7024b3dc\" y=\"227.144933\"/>\r\n      </g>\r\n     </g>\r\n     <g id=\"text_4\">\r\n      <!-- 60 -->\r\n      <g transform=\"translate(177.171071 241.743371)scale(0.1 -0.1)\">\r\n       <defs>\r\n        <path d=\"M 33.015625 40.375 \r\nQ 26.375 40.375 22.484375 35.828125 \r\nQ 18.609375 31.296875 18.609375 23.390625 \r\nQ 18.609375 15.53125 22.484375 10.953125 \r\nQ 26.375 6.390625 33.015625 6.390625 \r\nQ 39.65625 6.390625 43.53125 10.953125 \r\nQ 47.40625 15.53125 47.40625 23.390625 \r\nQ 47.40625 31.296875 43.53125 35.828125 \r\nQ 39.65625 40.375 33.015625 40.375 \r\nz\r\nM 52.59375 71.296875 \r\nL 52.59375 62.3125 \r\nQ 48.875 64.0625 45.09375 64.984375 \r\nQ 41.3125 65.921875 37.59375 65.921875 \r\nQ 27.828125 65.921875 22.671875 59.328125 \r\nQ 17.53125 52.734375 16.796875 39.40625 \r\nQ 19.671875 43.65625 24.015625 45.921875 \r\nQ 28.375 48.1875 33.59375 48.1875 \r\nQ 44.578125 48.1875 50.953125 41.515625 \r\nQ 57.328125 34.859375 57.328125 23.390625 \r\nQ 57.328125 12.15625 50.6875 5.359375 \r\nQ 44.046875 -1.421875 33.015625 -1.421875 \r\nQ 20.359375 -1.421875 13.671875 8.265625 \r\nQ 6.984375 17.96875 6.984375 36.375 \r\nQ 6.984375 53.65625 15.1875 63.9375 \r\nQ 23.390625 74.21875 37.203125 74.21875 \r\nQ 40.921875 74.21875 44.703125 73.484375 \r\nQ 48.484375 72.75 52.59375 71.296875 \r\nz\r\n\" id=\"DejaVuSans-54\"/>\r\n       </defs>\r\n       <use xlink:href=\"#DejaVuSans-54\"/>\r\n       <use x=\"63.623047\" xlink:href=\"#DejaVuSans-48\"/>\r\n      </g>\r\n     </g>\r\n    </g>\r\n    <g id=\"xtick_5\">\r\n     <g id=\"line2d_5\">\r\n      <g>\r\n       <use style=\"stroke:#000000;stroke-width:0.8;\" x=\"235.305\" xlink:href=\"#m3f7024b3dc\" y=\"227.144933\"/>\r\n      </g>\r\n     </g>\r\n     <g id=\"text_5\">\r\n      <!-- 80 -->\r\n      <g transform=\"translate(228.9425 241.743371)scale(0.1 -0.1)\">\r\n       <defs>\r\n        <path d=\"M 31.78125 34.625 \r\nQ 24.75 34.625 20.71875 30.859375 \r\nQ 16.703125 27.09375 16.703125 20.515625 \r\nQ 16.703125 13.921875 20.71875 10.15625 \r\nQ 24.75 6.390625 31.78125 6.390625 \r\nQ 38.8125 6.390625 42.859375 10.171875 \r\nQ 46.921875 13.96875 46.921875 20.515625 \r\nQ 46.921875 27.09375 42.890625 30.859375 \r\nQ 38.875 34.625 31.78125 34.625 \r\nz\r\nM 21.921875 38.8125 \r\nQ 15.578125 40.375 12.03125 44.71875 \r\nQ 8.5 49.078125 8.5 55.328125 \r\nQ 8.5 64.0625 14.71875 69.140625 \r\nQ 20.953125 74.21875 31.78125 74.21875 \r\nQ 42.671875 74.21875 48.875 69.140625 \r\nQ 55.078125 64.0625 55.078125 55.328125 \r\nQ 55.078125 49.078125 51.53125 44.71875 \r\nQ 48 40.375 41.703125 38.8125 \r\nQ 48.828125 37.15625 52.796875 32.3125 \r\nQ 56.78125 27.484375 56.78125 20.515625 \r\nQ 56.78125 9.90625 50.3125 4.234375 \r\nQ 43.84375 -1.421875 31.78125 -1.421875 \r\nQ 19.734375 -1.421875 13.25 4.234375 \r\nQ 6.78125 9.90625 6.78125 20.515625 \r\nQ 6.78125 27.484375 10.78125 32.3125 \r\nQ 14.796875 37.15625 21.921875 38.8125 \r\nz\r\nM 18.3125 54.390625 \r\nQ 18.3125 48.734375 21.84375 45.5625 \r\nQ 25.390625 42.390625 31.78125 42.390625 \r\nQ 38.140625 42.390625 41.71875 45.5625 \r\nQ 45.3125 48.734375 45.3125 54.390625 \r\nQ 45.3125 60.0625 41.71875 63.234375 \r\nQ 38.140625 66.40625 31.78125 66.40625 \r\nQ 25.390625 66.40625 21.84375 63.234375 \r\nQ 18.3125 60.0625 18.3125 54.390625 \r\nz\r\n\" id=\"DejaVuSans-56\"/>\r\n       </defs>\r\n       <use xlink:href=\"#DejaVuSans-56\"/>\r\n       <use x=\"63.623047\" xlink:href=\"#DejaVuSans-48\"/>\r\n      </g>\r\n     </g>\r\n    </g>\r\n   </g>\r\n   <g id=\"matplotlib.axis_2\">\r\n    <g id=\"ytick_1\">\r\n     <g id=\"line2d_6\">\r\n      <defs>\r\n       <path d=\"M 0 0 \r\nL -3.5 0 \r\n\" id=\"me04aa93f20\" style=\"stroke:#000000;stroke-width:0.8;\"/>\r\n      </defs>\r\n      <g>\r\n       <use style=\"stroke:#000000;stroke-width:0.8;\" x=\"26.925\" xlink:href=\"#me04aa93f20\" y=\"10.999219\"/>\r\n      </g>\r\n     </g>\r\n     <g id=\"text_6\">\r\n      <!-- 0 -->\r\n      <g transform=\"translate(13.5625 14.798437)scale(0.1 -0.1)\">\r\n       <use xlink:href=\"#DejaVuSans-48\"/>\r\n      </g>\r\n     </g>\r\n    </g>\r\n    <g id=\"ytick_2\">\r\n     <g id=\"line2d_7\">\r\n      <g>\r\n       <use style=\"stroke:#000000;stroke-width:0.8;\" x=\"26.925\" xlink:href=\"#me04aa93f20\" y=\"36.884933\"/>\r\n      </g>\r\n     </g>\r\n     <g id=\"text_7\">\r\n      <!-- 10 -->\r\n      <g transform=\"translate(7.2 40.684152)scale(0.1 -0.1)\">\r\n       <defs>\r\n        <path d=\"M 12.40625 8.296875 \r\nL 28.515625 8.296875 \r\nL 28.515625 63.921875 \r\nL 10.984375 60.40625 \r\nL 10.984375 69.390625 \r\nL 28.421875 72.90625 \r\nL 38.28125 72.90625 \r\nL 38.28125 8.296875 \r\nL 54.390625 8.296875 \r\nL 54.390625 0 \r\nL 12.40625 0 \r\nz\r\n\" id=\"DejaVuSans-49\"/>\r\n       </defs>\r\n       <use xlink:href=\"#DejaVuSans-49\"/>\r\n       <use x=\"63.623047\" xlink:href=\"#DejaVuSans-48\"/>\r\n      </g>\r\n     </g>\r\n    </g>\r\n    <g id=\"ytick_3\">\r\n     <g id=\"line2d_8\">\r\n      <g>\r\n       <use style=\"stroke:#000000;stroke-width:0.8;\" x=\"26.925\" xlink:href=\"#me04aa93f20\" y=\"62.770647\"/>\r\n      </g>\r\n     </g>\r\n     <g id=\"text_8\">\r\n      <!-- 20 -->\r\n      <g transform=\"translate(7.2 66.569866)scale(0.1 -0.1)\">\r\n       <use xlink:href=\"#DejaVuSans-50\"/>\r\n       <use x=\"63.623047\" xlink:href=\"#DejaVuSans-48\"/>\r\n      </g>\r\n     </g>\r\n    </g>\r\n    <g id=\"ytick_4\">\r\n     <g id=\"line2d_9\">\r\n      <g>\r\n       <use style=\"stroke:#000000;stroke-width:0.8;\" x=\"26.925\" xlink:href=\"#me04aa93f20\" y=\"88.656362\"/>\r\n      </g>\r\n     </g>\r\n     <g id=\"text_9\">\r\n      <!-- 30 -->\r\n      <g transform=\"translate(7.2 92.45558)scale(0.1 -0.1)\">\r\n       <defs>\r\n        <path d=\"M 40.578125 39.3125 \r\nQ 47.65625 37.796875 51.625 33 \r\nQ 55.609375 28.21875 55.609375 21.1875 \r\nQ 55.609375 10.40625 48.1875 4.484375 \r\nQ 40.765625 -1.421875 27.09375 -1.421875 \r\nQ 22.515625 -1.421875 17.65625 -0.515625 \r\nQ 12.796875 0.390625 7.625 2.203125 \r\nL 7.625 11.71875 \r\nQ 11.71875 9.328125 16.59375 8.109375 \r\nQ 21.484375 6.890625 26.8125 6.890625 \r\nQ 36.078125 6.890625 40.9375 10.546875 \r\nQ 45.796875 14.203125 45.796875 21.1875 \r\nQ 45.796875 27.640625 41.28125 31.265625 \r\nQ 36.765625 34.90625 28.71875 34.90625 \r\nL 20.21875 34.90625 \r\nL 20.21875 43.015625 \r\nL 29.109375 43.015625 \r\nQ 36.375 43.015625 40.234375 45.921875 \r\nQ 44.09375 48.828125 44.09375 54.296875 \r\nQ 44.09375 59.90625 40.109375 62.90625 \r\nQ 36.140625 65.921875 28.71875 65.921875 \r\nQ 24.65625 65.921875 20.015625 65.03125 \r\nQ 15.375 64.15625 9.8125 62.3125 \r\nL 9.8125 71.09375 \r\nQ 15.4375 72.65625 20.34375 73.4375 \r\nQ 25.25 74.21875 29.59375 74.21875 \r\nQ 40.828125 74.21875 47.359375 69.109375 \r\nQ 53.90625 64.015625 53.90625 55.328125 \r\nQ 53.90625 49.265625 50.4375 45.09375 \r\nQ 46.96875 40.921875 40.578125 39.3125 \r\nz\r\n\" id=\"DejaVuSans-51\"/>\r\n       </defs>\r\n       <use xlink:href=\"#DejaVuSans-51\"/>\r\n       <use x=\"63.623047\" xlink:href=\"#DejaVuSans-48\"/>\r\n      </g>\r\n     </g>\r\n    </g>\r\n    <g id=\"ytick_5\">\r\n     <g id=\"line2d_10\">\r\n      <g>\r\n       <use style=\"stroke:#000000;stroke-width:0.8;\" x=\"26.925\" xlink:href=\"#me04aa93f20\" y=\"114.542076\"/>\r\n      </g>\r\n     </g>\r\n     <g id=\"text_10\">\r\n      <!-- 40 -->\r\n      <g transform=\"translate(7.2 118.341295)scale(0.1 -0.1)\">\r\n       <use xlink:href=\"#DejaVuSans-52\"/>\r\n       <use x=\"63.623047\" xlink:href=\"#DejaVuSans-48\"/>\r\n      </g>\r\n     </g>\r\n    </g>\r\n    <g id=\"ytick_6\">\r\n     <g id=\"line2d_11\">\r\n      <g>\r\n       <use style=\"stroke:#000000;stroke-width:0.8;\" x=\"26.925\" xlink:href=\"#me04aa93f20\" y=\"140.42779\"/>\r\n      </g>\r\n     </g>\r\n     <g id=\"text_11\">\r\n      <!-- 50 -->\r\n      <g transform=\"translate(7.2 144.227009)scale(0.1 -0.1)\">\r\n       <defs>\r\n        <path d=\"M 10.796875 72.90625 \r\nL 49.515625 72.90625 \r\nL 49.515625 64.59375 \r\nL 19.828125 64.59375 \r\nL 19.828125 46.734375 \r\nQ 21.96875 47.46875 24.109375 47.828125 \r\nQ 26.265625 48.1875 28.421875 48.1875 \r\nQ 40.625 48.1875 47.75 41.5 \r\nQ 54.890625 34.8125 54.890625 23.390625 \r\nQ 54.890625 11.625 47.5625 5.09375 \r\nQ 40.234375 -1.421875 26.90625 -1.421875 \r\nQ 22.3125 -1.421875 17.546875 -0.640625 \r\nQ 12.796875 0.140625 7.71875 1.703125 \r\nL 7.71875 11.625 \r\nQ 12.109375 9.234375 16.796875 8.0625 \r\nQ 21.484375 6.890625 26.703125 6.890625 \r\nQ 35.15625 6.890625 40.078125 11.328125 \r\nQ 45.015625 15.765625 45.015625 23.390625 \r\nQ 45.015625 31 40.078125 35.4375 \r\nQ 35.15625 39.890625 26.703125 39.890625 \r\nQ 22.75 39.890625 18.8125 39.015625 \r\nQ 14.890625 38.140625 10.796875 36.28125 \r\nz\r\n\" id=\"DejaVuSans-53\"/>\r\n       </defs>\r\n       <use xlink:href=\"#DejaVuSans-53\"/>\r\n       <use x=\"63.623047\" xlink:href=\"#DejaVuSans-48\"/>\r\n      </g>\r\n     </g>\r\n    </g>\r\n    <g id=\"ytick_7\">\r\n     <g id=\"line2d_12\">\r\n      <g>\r\n       <use style=\"stroke:#000000;stroke-width:0.8;\" x=\"26.925\" xlink:href=\"#me04aa93f20\" y=\"166.313504\"/>\r\n      </g>\r\n     </g>\r\n     <g id=\"text_12\">\r\n      <!-- 60 -->\r\n      <g transform=\"translate(7.2 170.112723)scale(0.1 -0.1)\">\r\n       <use xlink:href=\"#DejaVuSans-54\"/>\r\n       <use x=\"63.623047\" xlink:href=\"#DejaVuSans-48\"/>\r\n      </g>\r\n     </g>\r\n    </g>\r\n    <g id=\"ytick_8\">\r\n     <g id=\"line2d_13\">\r\n      <g>\r\n       <use style=\"stroke:#000000;stroke-width:0.8;\" x=\"26.925\" xlink:href=\"#me04aa93f20\" y=\"192.199219\"/>\r\n      </g>\r\n     </g>\r\n     <g id=\"text_13\">\r\n      <!-- 70 -->\r\n      <g transform=\"translate(7.2 195.998437)scale(0.1 -0.1)\">\r\n       <defs>\r\n        <path d=\"M 8.203125 72.90625 \r\nL 55.078125 72.90625 \r\nL 55.078125 68.703125 \r\nL 28.609375 0 \r\nL 18.3125 0 \r\nL 43.21875 64.59375 \r\nL 8.203125 64.59375 \r\nz\r\n\" id=\"DejaVuSans-55\"/>\r\n       </defs>\r\n       <use xlink:href=\"#DejaVuSans-55\"/>\r\n       <use x=\"63.623047\" xlink:href=\"#DejaVuSans-48\"/>\r\n      </g>\r\n     </g>\r\n    </g>\r\n    <g id=\"ytick_9\">\r\n     <g id=\"line2d_14\">\r\n      <g>\r\n       <use style=\"stroke:#000000;stroke-width:0.8;\" x=\"26.925\" xlink:href=\"#me04aa93f20\" y=\"218.084933\"/>\r\n      </g>\r\n     </g>\r\n     <g id=\"text_14\">\r\n      <!-- 80 -->\r\n      <g transform=\"translate(7.2 221.884152)scale(0.1 -0.1)\">\r\n       <use xlink:href=\"#DejaVuSans-56\"/>\r\n       <use x=\"63.623047\" xlink:href=\"#DejaVuSans-48\"/>\r\n      </g>\r\n     </g>\r\n    </g>\r\n   </g>\r\n   <g id=\"patch_3\">\r\n    <path d=\"M 26.925 227.144933 \r\nL 26.925 9.704933 \r\n\" style=\"fill:none;stroke:#000000;stroke-linecap:square;stroke-linejoin:miter;stroke-width:0.8;\"/>\r\n   </g>\r\n   <g id=\"patch_4\">\r\n    <path d=\"M 244.365 227.144933 \r\nL 244.365 9.704933 \r\n\" style=\"fill:none;stroke:#000000;stroke-linecap:square;stroke-linejoin:miter;stroke-width:0.8;\"/>\r\n   </g>\r\n   <g id=\"patch_5\">\r\n    <path d=\"M 26.925 227.144933 \r\nL 244.365 227.144933 \r\n\" style=\"fill:none;stroke:#000000;stroke-linecap:square;stroke-linejoin:miter;stroke-width:0.8;\"/>\r\n   </g>\r\n   <g id=\"patch_6\">\r\n    <path d=\"M 26.925 9.704933 \r\nL 244.365 9.704933 \r\n\" style=\"fill:none;stroke:#000000;stroke-linecap:square;stroke-linejoin:miter;stroke-width:0.8;\"/>\r\n   </g>\r\n  </g>\r\n </g>\r\n <defs>\r\n  <clipPath id=\"p815039609e\">\r\n   <rect height=\"217.44\" width=\"217.44\" x=\"26.925\" y=\"9.704933\"/>\r\n  </clipPath>\r\n </defs>\r\n</svg>\r\n",
      "image/png": "[encoded data removed]"
     },
     "metadata": {
      "needs_background": "light"
     }
    }
   ],
   "source": [
    "arr = np.reshape(npy[0][3], (84, 84, 1))\n",
    "fig = plt.figure()\n",
    "plt.imshow(arr, cmap='gray')\n",
    "\"\"\"img = cv2.imread(arr)\n",
    "cv2.imshow('Haha', img)\"\"\""
   ]
  },
  {
   "cell_type": "code",
   "execution_count": 12,
   "metadata": {},
   "outputs": [
    {
     "output_type": "error",
     "ename": "error",
     "evalue": "OpenCV(4.4.0) C:\\Users\\appveyor\\AppData\\Local\\Temp\\1\\pip-req-build-2b5g8ysb\\opencv\\modules\\highgui\\src\\window.cpp:376: error: (-215:Assertion failed) size.width>0 && size.height>0 in function 'cv::imshow'\n",
     "traceback": [
      "\u001b[1;31m---------------------------------------------------------------------------\u001b[0m",
      "\u001b[1;31merror\u001b[0m                                     Traceback (most recent call last)",
      "\u001b[1;32m<ipython-input-12-2b47cf575c8e>\u001b[0m in \u001b[0;36m<module>\u001b[1;34m\u001b[0m\n\u001b[0;32m      1\u001b[0m \u001b[0mpath\u001b[0m \u001b[1;33m=\u001b[0m \u001b[1;34m\".//Screenshots/Screenshots1/jpg\"\u001b[0m\u001b[1;33m\u001b[0m\u001b[1;33m\u001b[0m\u001b[0m\n\u001b[0;32m      2\u001b[0m \u001b[0mimg\u001b[0m \u001b[1;33m=\u001b[0m \u001b[0mcv2\u001b[0m\u001b[1;33m.\u001b[0m\u001b[0mimread\u001b[0m\u001b[1;33m(\u001b[0m\u001b[0mpath\u001b[0m\u001b[1;33m)\u001b[0m\u001b[1;33m\u001b[0m\u001b[1;33m\u001b[0m\u001b[0m\n\u001b[1;32m----> 3\u001b[1;33m \u001b[0mcv2\u001b[0m\u001b[1;33m.\u001b[0m\u001b[0mimshow\u001b[0m\u001b[1;33m(\u001b[0m\u001b[1;34m'Img'\u001b[0m\u001b[1;33m,\u001b[0m \u001b[0mimg\u001b[0m\u001b[1;33m)\u001b[0m\u001b[1;33m\u001b[0m\u001b[1;33m\u001b[0m\u001b[0m\n\u001b[0m",
      "\u001b[1;31merror\u001b[0m: OpenCV(4.4.0) C:\\Users\\appveyor\\AppData\\Local\\Temp\\1\\pip-req-build-2b5g8ysb\\opencv\\modules\\highgui\\src\\window.cpp:376: error: (-215:Assertion failed) size.width>0 && size.height>0 in function 'cv::imshow'\n"
     ]
    }
   ],
   "source": [
    "path = \".//Screenshots/Screenshots1/jpg\"\n",
    "img = cv2.imread(path)\n",
    "cv2.imshow('Img', img)"
   ]
  },
  {
   "cell_type": "code",
   "execution_count": null,
   "metadata": {},
   "outputs": [],
   "source": [
    "for episodes in range(num_episodes):\n",
    "    environ.reset()\n",
    "    state = get_ss.screenshot()\n",
    "    # While the episode is running\n",
    "    while not environ.done:\n",
    "        action = agent.select_action(state, policy_net)\n",
    "        reward = environ.ta\n",
    "        "
   ]
  },
  {
   "cell_type": "code",
   "execution_count": 15,
   "metadata": {},
   "outputs": [
    {
     "output_type": "error",
     "ename": "NameError",
     "evalue": "name 'count' is not defined",
     "traceback": [
      "\u001b[1;31m---------------------------------------------------------------------------\u001b[0m",
      "\u001b[1;31mNameError\u001b[0m                                 Traceback (most recent call last)",
      "\u001b[1;32m<ipython-input-15-9dbe85a0224b>\u001b[0m in \u001b[0;36m<module>\u001b[1;34m\u001b[0m\n\u001b[1;32m----> 1\u001b[1;33m \u001b[0mhelp\u001b[0m\u001b[1;33m(\u001b[0m\u001b[0mcount\u001b[0m\u001b[1;33m)\u001b[0m\u001b[1;33m\u001b[0m\u001b[1;33m\u001b[0m\u001b[0m\n\u001b[0m",
      "\u001b[1;31mNameError\u001b[0m: name 'count' is not defined"
     ]
    }
   ],
   "source": [
    "help(count)"
   ]
  },
  {
   "cell_type": "code",
   "execution_count": null,
   "metadata": {},
   "outputs": [],
   "source": []
  }
 ],
 "metadata": {
  "kernelspec": {
   "display_name": "Python 3.7.8 64-bit",
   "language": "python",
   "name": "python37864bit493ebcdfe64d44eab888e13e0887aab6"
  },
  "language_info": {
   "codemirror_mode": {
    "name": "ipython",
    "version": 3
   },
   "file_extension": ".py",
   "mimetype": "text/x-python",
   "name": "python",
   "nbconvert_exporter": "python",
   "pygments_lexer": "ipython3",
   "version": "3.7.8-final"
  }
 },
 "nbformat": 4,
 "nbformat_minor": 4
}