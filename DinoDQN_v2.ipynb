{
 "cells": [
  {
   "cell_type": "markdown",
   "metadata": {},
   "source": [
    "# AI Learns to play Dino game!"
   ]
  },
  {
   "cell_type": "code",
   "execution_count": 1,
   "metadata": {},
   "outputs": [],
   "source": [
    "# Importing Libraries\n",
    "\n",
    "# Bread and butter\n",
    "import numpy as np\n",
    "import matplotlib.pyplot as plt\n",
    "\n",
    "# Importing Selenium to control the browser\n",
    "from selenium import webdriver\n",
    "from selenium.webdriver.common.keys import Keys\n",
    "from selenium.webdriver.chrome.options import Options\n",
    "\n",
    "# To use our keyboard\n",
    "import pyautogui\n",
    "\n",
    "# TO help me become Doctor Strange\n",
    "import time\n",
    "\n",
    "# Because I can't do Image processing myself\n",
    "import cv2 \n",
    "\n",
    "# Deep Learning Libraries\n",
    "import torch\n",
    "import torch.nn as nn\n",
    "import torch.optim as optim"
   ]
  },
  {
   "cell_type": "code",
   "execution_count": 2,
   "metadata": {},
   "outputs": [],
   "source": [
    "# Pur environment class which is used to play the game\n",
    "class Environment():\n",
    "\n",
    "    def __init__(self, device=\"cpu\", chrome_path=\".//Driver/chromedriver.exe\"):\n",
    "        self.done = False\n",
    "        self.device = device\n",
    "        self.initialize_chrome(chrome_path)\n",
    "        \n",
    "    def initialize_chrome(self, chrome_path):\n",
    "        chrome_options = Options()\n",
    "        chrome_options.add_argument(\"start-maximized\")\n",
    "        chrome_options.add_argument(\"disable-infobars\")\n",
    "        chrome_options.add_argument(\"--mute-audio\")\n",
    "        self.driver = webdriver.Chrome(chrome_path, chrome_options=chrome_options)\n",
    "        \n",
    "    def reset(self, game_url=\"chrome://dino\"):\n",
    "        try:\n",
    "            self.driver.get(game_url)\n",
    "        except:\n",
    "            pass\n",
    "    \n",
    "    def start(self):\n",
    "        pyautogui.press(\"up\")\n",
    "\n",
    "    # Hard stop\n",
    "    def close_all(self):\n",
    "        self.driver.close()\n",
    "        self.driver.quit()\n",
    "        try:\n",
    "            os.system(\"cmd /c taskkill /F /IM chromedriver.exe\")\n",
    "        except:\n",
    "            print(\"No tasks found!\")\n",
    "    \n",
    "\n",
    "    def get_screenshot(self, screenshot_path=\".//Screenshots/\"):\n",
    "        current_state = []\n",
    "        for i in range(1, 5):\n",
    "            file_name = screenshot_path + str(i) + '.jpg'\n",
    "            screenshot = pyautogui.screenshot(region=(0, 400, 1920, 330))\n",
    "            screenshot.save(file_name)\n",
    "            image_tensor = self.process_image(file_name)\n",
    "            current_state.append(image_tensor)\n",
    "        current_state = torch.cat(current_state).unsqueeze(0).to(self.device)\n",
    "        return current_state\n",
    "\n",
    "    def process_image(self, image_file):\n",
    "        image = cv2.imread(image_file)\n",
    "        image = cv2.cvtColor(image, cv2.COLOR_BGR2GRAY)\n",
    "        image[image>255] = 255\n",
    "        image = cv2.resize(image, (256, 128))\n",
    "        image = cv2.Canny(image, threshold1=100, threshold2=200)\n",
    "        image = np.reshape(image, (1, 256, 128))\n",
    "        return self.image_to_tensor(image)\n",
    "\n",
    "    def image_to_tensor(self, image):\n",
    "        image = image.astype(np.float32)\n",
    "        image_tensor = torch.from_numpy(image)\n",
    "        image_tensor = image_tensor.to(self.device, dtype=torch.float32)\n",
    "        return image_tensor\n",
    "\n",
    "\n",
    "    def jump(self):\n",
    "        pyautogui.keyDown(\"up\")\n",
    "        time.sleep(0.2)\n",
    "        pyautogui.keyUp(\"up\")\n",
    "\n",
    "\n",
    "    def duck(self):\n",
    "        pyautogui.keyDown(\"down\")\n",
    "        time.sleep(0.25)\n",
    "        pyautogui.keyUp(\"down\")\n",
    "\n",
    "\n",
    "    def do_nothing(self):\n",
    "        time.sleep(0.25)\n",
    "\n",
    "\n",
    "    def take_action(self, action):\n",
    "        reward = 1\n",
    "        if action == 0:\n",
    "            self.jump()\n",
    "        elif action == 1:\n",
    "            self.duck()\n",
    "        elif action == 2:\n",
    "            self.do_nothing()\n",
    "        \n",
    "        state = self.get_screenshot()\n",
    "\n",
    "    def view_screenshots(self, images):\n",
    "        # images are of the shape (1, 4, 256, 128)\n",
    "        images = torch.reshape(images, shape=(4, 128, 256))\n",
    "        \n",
    "        fig, ax = plt.subplots(2, 2, figsize=(14, 14))\n",
    "        x = 0\n",
    "        for i in range(2):\n",
    "            for j in range(2):\n",
    "                ax[i][j].imshow(images[x], cmap=\"gray\")\n",
    "                ax[i][j].set_title(f\"Screenshot #{x}\")\n",
    "                x += 1\n",
    "        \n",
    "                \n",
    "    def end_of_episode(self):\n",
    "        return self.driver.execute_script(\"return Runner.instance_.crashed\")"
   ]
  },
  {
   "cell_type": "code",
   "execution_count": 3,
   "metadata": {
    "tags": []
   },
   "outputs": [],
   "source": [
    "class DinoNetwork(nn.Module):\n",
    "    def __init__():\n",
    "        super(DinoNetwork, self).__init__()\n",
    "        # First COnv Layer\n",
    "        self.conv1 = nn.Sequential(\n",
    "            nn.Conv2d(in_channels=4, out_channels=32, kernel_size=3, stride=1),\n",
    "            nn.ReLU(),\n",
    "            nn.BatchNorm2d(32)\n",
    "        )\n",
    "\n",
    "        self.conv2 = nn.Sequential(\n",
    "            nn.Conv2d(32, 64, 3, 1),\n",
    "            nn.ReLU(),\n",
    "            nn.BatchNorm2d(64)\n",
    "        )\n",
    "\n",
    "        self.conv2 = nn.Sequential(\n",
    "            nn.Conv2d(64, 64, 3, 1),\n",
    "            nn.ReLU(),\n",
    "            nn.BatchNorm2d(64)\n",
    "        )\n",
    "\n",
    "        self.fc1 = nn.Sequential(\n",
    "            nn.Linear(512, 64),\n",
    "            nn.ReLU(),\n",
    "            # nn.BatchNorm1d(512)\n",
    "        )\n",
    "\n",
    "        self.fc2 = nn.Sequential(\n",
    "            nn.Linear(64, 3),\n",
    "            nn.Sigmoid()\n",
    "            \n",
    "        )\n",
    "\n",
    "    def forward(self, inputs):\n",
    "        x = self.conv1(inputs)\n",
    "        x = self.conv2(x)\n",
    "        x = self.conv3(x)\n",
    "        # We will now flatten the layers\n",
    "        # Calculated using this below line\n",
    "        x = self.flatten(start_dim=1, end_dim=-1)\n",
    "        # print(f\"After flattening, shape is {x.shape}\")\n",
    "        x = self.fc1(x)\n",
    "        x = self.fc2(x)\n",
    "        return x\n",
    "\n",
    "def init__weights(m):\n",
    "    if type(m) == nn.Conv2d or type(m) == nn.Linear:\n",
    "        # Kaimig Uniform initialization is used for Relu Activation. It's mostly known as 'He weight initialization'.\n",
    "        torch.nn.init.kaiming_uniform_(m.weight, nonlinearity='relu')\n",
    "\n"
   ]
  },
  {
   "cell_type": "code",
   "execution_count": 4,
   "metadata": {},
   "outputs": [
    {
     "ename": "AttributeError",
     "evalue": "module 'torch' has no attribute 'cuda_is_available'",
     "output_type": "error",
     "traceback": [
      "\u001b[1;31m---------------------------------------------------------------------------\u001b[0m",
      "\u001b[1;31mAttributeError\u001b[0m                            Traceback (most recent call last)",
      "\u001b[1;32m<ipython-input-4-8b354109d771>\u001b[0m in \u001b[0;36m<module>\u001b[1;34m\u001b[0m\n\u001b[0;32m     18\u001b[0m \u001b[1;33m\u001b[0m\u001b[0m\n\u001b[0;32m     19\u001b[0m \u001b[1;31m# Selecting the device for the iterations\u001b[0m\u001b[1;33m\u001b[0m\u001b[1;33m\u001b[0m\u001b[1;33m\u001b[0m\u001b[0m\n\u001b[1;32m---> 20\u001b[1;33m \u001b[0mdevice\u001b[0m \u001b[1;33m=\u001b[0m \u001b[0mtorch\u001b[0m\u001b[1;33m.\u001b[0m\u001b[0mdevice\u001b[0m\u001b[1;33m(\u001b[0m\u001b[1;34m'cuda'\u001b[0m \u001b[1;32mif\u001b[0m \u001b[0mtorch\u001b[0m\u001b[1;33m.\u001b[0m\u001b[0mcuda_is_available\u001b[0m\u001b[1;33m(\u001b[0m\u001b[1;33m)\u001b[0m \u001b[1;32melse\u001b[0m \u001b[1;34m'cpu'\u001b[0m\u001b[1;33m)\u001b[0m\u001b[1;33m\u001b[0m\u001b[1;33m\u001b[0m\u001b[0m\n\u001b[0m\u001b[0;32m     21\u001b[0m \u001b[1;33m\u001b[0m\u001b[0m\n\u001b[0;32m     22\u001b[0m \u001b[1;31m# Setting loss criteria\u001b[0m\u001b[1;33m\u001b[0m\u001b[1;33m\u001b[0m\u001b[1;33m\u001b[0m\u001b[0m\n",
      "\u001b[1;31mAttributeError\u001b[0m: module 'torch' has no attribute 'cuda_is_available'"
     ]
    }
   ],
   "source": [
    "# Defining Constants\n",
    "batch_size = 128\n",
    "\n",
    "# Gamma (Discount rate for future rewards)\n",
    "gamma = 0.95\n",
    "\n",
    "# Exploration rate\n",
    "epsilon_start = 1\n",
    "\n",
    "# Decay rate for Epsilon\n",
    "epsilon_decay = 0.995\n",
    "\n",
    "# Minimum Epsilon\n",
    "epsilon_min = 0.1\n",
    "\n",
    "# Updating the Target Q Network after these many episodes\n",
    "target_update = 30\n",
    "\n",
    "# Selecting the device for the iterations\n",
    "device = torch.device('cuda' if torch.cuda_is_available() else 'cpu')\n",
    "\n",
    "# Setting loss criteria\n",
    "criterion = nn.MSELoss()\n",
    "\n",
    "#"
   ]
  },
  {
   "cell_type": "code",
   "execution_count": null,
   "metadata": {},
   "outputs": [],
   "source": []
  },
  {
   "cell_type": "code",
   "execution_count": null,
   "metadata": {},
   "outputs": [],
   "source": []
  },
  {
   "cell_type": "code",
   "execution_count": null,
   "metadata": {},
   "outputs": [],
   "source": []
  },
  {
   "cell_type": "code",
   "execution_count": 7,
   "metadata": {},
   "outputs": [
    {
     "name": "stderr",
     "output_type": "stream",
     "text": [
      "D:\\Programming\\Python\\Environments\\py3.7_envs\\AiPlaysDino\\lib\\site-packages\\ipykernel_launcher.py:14: DeprecationWarning: use options instead of chrome_options\n",
      "  \n"
     ]
    },
    {
     "name": "stdout",
     "output_type": "stream",
     "text": [
      "Episode ended? False\n",
      "torch.Size([1, 4, 256, 128])\n"
     ]
    },
    {
     "data": {
      "image/png": "[encoded data removed]",
      "text/plain": [
       "<Figure size 1008x1008 with 4 Axes>"
      ]
     },
     "metadata": {
      "needs_background": "light"
     },
     "output_type": "display_data"
    }
   ],
   "source": [
    "env = Environment()\n",
    "env.reset()\n",
    "env.start()\n",
    "time.sleep(2)\n",
    "env.jump()\n",
    "print(f\"Episode ended? {env.end_of_episode()}\")\n",
    "\n",
    "print(images.shape)\n",
    "env.view_screenshots(images)\n",
    "time.sleep(2)\n",
    "env.duck()\n",
    "time.sleep(2)\n",
    "images = env.get_screenshot()"
   ]
  },
  {
   "cell_type": "code",
   "execution_count": null,
   "metadata": {},
   "outputs": [],
   "source": []
  }
 ],
 "metadata": {
  "kernelspec": {
   "display_name": "Python 3.7.8 64-bit",
   "language": "python",
   "name": "python37864bit493ebcdfe64d44eab888e13e0887aab6"
  },
  "language_info": {
   "codemirror_mode": {
    "name": "ipython",
    "version": 3
   },
   "file_extension": ".py",
   "mimetype": "text/x-python",
   "name": "python",
   "nbconvert_exporter": "python",
   "pygments_lexer": "ipython3",
   "version": "3.7.8"
  }
 },
 "nbformat": 4,
 "nbformat_minor": 4
}
